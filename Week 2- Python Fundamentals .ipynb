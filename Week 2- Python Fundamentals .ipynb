{
 "cells": [
  {
   "cell_type": "markdown",
   "id": "4ad7f25e-6731-4091-8c7e-1916abc581b8",
   "metadata": {},
   "source": [
    "#### Part 1: Conditional Statements\n",
    "#### Basic if statement\n",
    "#### Let's check if a number is positive, negative, or zero\n",
    "#### number = 5  # Try changing this value"
   ]
  },
  {
   "cell_type": "code",
   "execution_count": 8,
   "id": "b092fca7-620a-479a-820b-54651a2fcf24",
   "metadata": {},
   "outputs": [
    {
     "name": "stdout",
     "output_type": "stream",
     "text": [
      "-3 is negative\n"
     ]
    }
   ],
   "source": [
    "number = -3\n",
    "\n",
    "if number > 0:\n",
    "    print( number, \"is postive\")\n",
    "elif number < 0:\n",
    "    print(number, \"is negative\")\n",
    "else:\n",
    "    print(number, \"is zero\")\n"
   ]
  },
  {
   "cell_type": "markdown",
   "id": "90555069-2b20-4e77-8c81-1fe52037528d",
   "metadata": {},
   "source": [
    "#### Exercise 1: Grade Calculator\n",
    "#### Write a program that converts a numerical score to a letter grade\n",
    "#### 90-100: A\n",
    "#### 80-89: B\n",
    "#### 70-79: C\n",
    "#### 60-69: D\n",
    "#### Below 60: F"
   ]
  },
  {
   "cell_type": "code",
   "execution_count": 14,
   "id": "f99e24c0-27b4-4c17-93c7-51c2e40099e2",
   "metadata": {},
   "outputs": [
    {
     "name": "stdout",
     "output_type": "stream",
     "text": [
      "Score: 95, Grade: A\n",
      "Score: 82, Grade: B\n",
      "Score: 71, Grade: C\n",
      "Score: 65, Grade: D\n",
      "Score: 55, Grade: F\n"
     ]
    }
   ],
   "source": [
    "def calculate_grade(score):\n",
    "    \n",
    "    if score >= 90:\n",
    "        return \"A\"\n",
    "    elif score >= 80:\n",
    "        return \"B\"\n",
    "    elif score >= 70:\n",
    "        return \"C\"\n",
    "    elif score >= 60:\n",
    "        return \"D\"\n",
    "    else:\n",
    "        return \"F\"\n",
    "    \n",
    "# Test your function\n",
    "test_scores = [95, 82, 71, 65, 55]\n",
    "for score in test_scores:\n",
    "    print(f\"Score: {score}, Grade: {calculate_grade(score)}\")"
   ]
  },
  {
   "cell_type": "code",
   "execution_count": null,
   "id": "d4872d80-0922-4610-a9c5-43f43c15da4c",
   "metadata": {},
   "outputs": [],
   "source": []
  },
  {
   "cell_type": "markdown",
   "id": "654f9c13-ba7e-4773-be9a-b9a55948d421",
   "metadata": {},
   "source": [
    "#### Exercise 2: Discount Calculator\n",
    "#### Write a function that calculates the final price after applying a discount\n",
    "#### If the purchase amount is 100 or more, apply a 10% discount\n",
    "#### If the purchase amount is 500 or more, apply a 20% discount\n",
    "#### If the purchase amount is 1000 or more, apply a 30% discount"
   ]
  },
  {
   "cell_type": "code",
   "execution_count": 35,
   "id": "f0985cf2-69c3-4379-8ce6-4691464d19c0",
   "metadata": {},
   "outputs": [
    {
     "name": "stdout",
     "output_type": "stream",
     "text": [
      "Original price: $50, Final price: $50.00\n",
      "Original price: $150, Final price: $135.00\n",
      "Original price: $600, Final price: $480.00\n",
      "Original price: $1200, Final price: $840.00\n"
     ]
    }
   ],
   "source": [
    "def calculate_discount(purchase_amount):\n",
    "    \n",
    "    if purchase_amount >= 1000:\n",
    "        discount = 0.3\n",
    "    elif purchase_amount >= 500:\n",
    "        discount = 0.2\n",
    "    elif purchase_amount >= 100:\n",
    "        discount = 0.1\n",
    "    else:\n",
    "        discount = 0 \n",
    "        \n",
    "    final_price = purchase_amount - (purchase_amount * discount)\n",
    "    return final_price\n",
    "    \n",
    "# Test your function\n",
    "purchase_amounts = [50, 150, 600, 1200]\n",
    "for amount in purchase_amounts:\n",
    "    print(f\"Original price: ${amount}, Final price: ${calculate_discount(amount):.2f}\")\n",
    "    \n",
    "    \n",
    "\n"
   ]
  },
  {
   "cell_type": "markdown",
   "id": "c42afdd6-4716-45c9-97f2-3e5876f195f8",
   "metadata": {},
   "source": [
    "#### Part 2: Functions"
   ]
  },
  {
   "cell_type": "code",
   "execution_count": 117,
   "id": "35f6767d-242f-4f9f-adcf-b143d839c534",
   "metadata": {},
   "outputs": [
    {
     "name": "stdout",
     "output_type": "stream",
     "text": [
      "Hello, Umeyma!\n"
     ]
    }
   ],
   "source": [
    "#### Basic function definition\n",
    "def greet(name):\n",
    "    \n",
    "    return f\"Hello, {name}!\"\n",
    "   \n",
    "\n",
    "# Call the function\n",
    "print(greet(\"Umeyma\"))"
   ]
  },
  {
   "cell_type": "markdown",
   "id": "615bf611-b714-4c5a-baff-3a28cf29a10d",
   "metadata": {},
   "source": [
    "#### Exercise 3: Temperature Converter\n",
    "#### Write a function that converts temperature from Celsius to Fahrenheit\n",
    "#### Formula: F = C * 9/5 + 32"
   ]
  },
  {
   "cell_type": "code",
   "execution_count": 40,
   "id": "ba351c1c-06b9-4f7d-86d4-8978a735192e",
   "metadata": {},
   "outputs": [
    {
     "name": "stdout",
     "output_type": "stream",
     "text": [
      "0°C = 32.0°F\n",
      "25°C = 77.0°F\n",
      "37°C = 98.6°F\n",
      "100°C = 212.0°F\n"
     ]
    }
   ],
   "source": [
    "def celsius_to_fahrenheit(celsius):\n",
    "\n",
    "    fahrenheit = celsius * 9/5 + 32\n",
    "    return fahrenheit\n",
    "    \n",
    "# Test your function\n",
    "temperatures_c = [0, 25, 37, 100]\n",
    "for temp in temperatures_c:\n",
    "    print(f\"{temp}°C = {celsius_to_fahrenheit(temp):.1f}°F\")"
   ]
  },
  {
   "cell_type": "markdown",
   "id": "a5d7c9ea-a970-4f47-aa23-3ca24f537b79",
   "metadata": {},
   "source": [
    "#### Exercise 4: Calculator Function\n",
    "#### Write a function that takes two numbers and an operation as parameters\n",
    "#### Supported operations: add, subtract, multiply, divide\n",
    "#### Return the result of the operation"
   ]
  },
  {
   "cell_type": "code",
   "execution_count": 60,
   "id": "1378000a-538f-4594-a190-9abe1b3d2670",
   "metadata": {},
   "outputs": [
    {
     "name": "stdout",
     "output_type": "stream",
     "text": [
      "15\n",
      "5\n",
      "50\n",
      "2.0\n",
      "ZeroDivisionError\n"
     ]
    }
   ],
   "source": [
    "def calculator(num1, num2, operation):\n",
    "\n",
    "    if operation == \"add\":\n",
    "        return num1 + num2\n",
    "    elif operation == \"subtract\":\n",
    "        return num1 - num2\n",
    "    elif operation == \"multiply\":\n",
    "        return num1 * num2\n",
    "    elif operation == \"divide\":\n",
    "        if num2 == 0:\n",
    "            return \"ZeroDivisionError\"\n",
    "        return num1 / num2\n",
    "    else:\n",
    "        return \"Error, unknown operation\"\n",
    "    \n",
    "\n",
    "print(calculator(10, 5, \"add\"))      # Should return 15\n",
    "print(calculator(10, 5, \"subtract\")) # Should return 5\n",
    "print(calculator(10, 5, \"multiply\")) # Should return 50\n",
    "print(calculator(10, 5, \"divide\"))   # Should return 2\n",
    "print(calculator(10, 0, \"divide\"))   # Should return an error    \n"
   ]
  },
  {
   "cell_type": "markdown",
   "id": "c8eca4d5-7d04-451b-affe-d75b66f6b535",
   "metadata": {},
   "source": [
    "#### Part 3: Lists\n",
    "\n"
   ]
  },
  {
   "cell_type": "code",
   "execution_count": 63,
   "id": "af9e1ee4-0c11-40ee-bce8-0ead7e5fa22d",
   "metadata": {},
   "outputs": [
    {
     "name": "stdout",
     "output_type": "stream",
     "text": [
      "Original list: ['apple', 'banana', 'cherry', 'date']\n",
      "\n",
      "First fruit: apple\n",
      "Last fruit: date\n",
      "\n",
      "After modification: ['apple', 'blueberry', 'cherry', 'date']\n",
      "\n",
      "After append: ['apple', 'blueberry', 'cherry', 'date', 'elderberry']\n",
      "\n",
      "Removed apple, List now: ['blueberry', 'cherry', 'date', 'elderberry']\n"
     ]
    }
   ],
   "source": [
    "### Basic list operations\n",
    "fruits = [\"apple\", \"banana\", \"cherry\", \"date\"]\n",
    "print(\"Original list:\", fruits)\n",
    "print()\n",
    "\n",
    "# Accessing elements\n",
    "print(\"First fruit:\", fruits[0])\n",
    "print(\"Last fruit:\", fruits[-1])\n",
    "print()\n",
    "\n",
    "# Modifying the list\n",
    "fruits[1] = \"blueberry\"\n",
    "print(\"After modification:\", fruits)\n",
    "print()\n",
    "\n",
    "# Adding elements\n",
    "fruits.append(\"elderberry\")\n",
    "print(\"After append:\", fruits)\n",
    "print()\n",
    "\n",
    "# Removing elements\n",
    "removed_fruit = fruits.pop(0)\n",
    "print(f\"Removed {removed_fruit}, List now:\", fruits)"
   ]
  },
  {
   "cell_type": "markdown",
   "id": "985e0c51-c292-4269-9c53-9e62843367e6",
   "metadata": {},
   "source": [
    "#### Exercise 5: List Statistics\n",
    "#### Write a function that takes a list of numbers and returns a dictionary with:\n",
    "#### - The minimum value\n",
    "#### - The maximum value\n",
    "#### - The average value\n",
    "#### - The sum of all values"
   ]
  },
  {
   "cell_type": "code",
   "execution_count": 96,
   "id": "efb5e9ff-04f5-4de2-8f5d-c6c457cb28c9",
   "metadata": {},
   "outputs": [
    {
     "name": "stdout",
     "output_type": "stream",
     "text": [
      "Statistics: {'min': 5, 'max': 42, 'sum': 106, 'average': 17.666666666666668}\n"
     ]
    }
   ],
   "source": [
    "def calculate_statistics(numbers):\n",
    "    \n",
    "    if not numbers: \n",
    "        return{\n",
    "            \"min\" : None, \n",
    "            \"max\" : None, \n",
    "            \"sum\" : None,\n",
    "            \"average\" : None\n",
    "        }\n",
    "    return{\n",
    "        \"min\" : min(numbers), \n",
    "        \"max\" : max(numbers),\n",
    "        \"sum\" : sum(numbers),\n",
    "        \"average\" : sum(numbers) / len(numbers)\n",
    "    }\n",
    "\n",
    "# Test your function\n",
    "test_numbers = [5, 12, 8, 42, 23, 16]\n",
    "stats = calculate_statistics(test_numbers)\n",
    "print(\"Statistics:\", stats)    "
   ]
  },
  {
   "cell_type": "markdown",
   "id": "caf1461d-7568-43df-a6a6-84b389f7b02d",
   "metadata": {},
   "source": [
    "#### Exercise 6: List Filtering\n",
    "#### Write a function that takes a list of numbers and returns a new list containing only even numbers\n"
   ]
  },
  {
   "cell_type": "code",
   "execution_count": 103,
   "id": "ea51c9d6-8d21-43da-b89b-27148cbbde05",
   "metadata": {},
   "outputs": [
    {
     "name": "stdout",
     "output_type": "stream",
     "text": [
      "Even numbers: [2, 4, 6, 8, 10]\n"
     ]
    }
   ],
   "source": [
    "def filter_even_numbers(numbers):\n",
    "\n",
    "    return ([num for num in numbers if num % 2 == 0])\n",
    "\n",
    "    \n",
    "# Test your function\n",
    "numbers = [1, 2, 3, 4, 5, 6, 7, 8, 9, 10]\n",
    "even_numbers = filter_even_numbers(numbers)\n",
    "print(\"Even numbers:\", even_numbers)"
   ]
  },
  {
   "cell_type": "markdown",
   "id": "17f88d51-e22b-4b28-9cea-83c7e6114cab",
   "metadata": {},
   "source": [
    "#### Part 4: Dictionaries"
   ]
  },
  {
   "cell_type": "code",
   "execution_count": 104,
   "id": "895ff5c9-ad5b-4d2a-9f41-56e2f85c004f",
   "metadata": {},
   "outputs": [
    {
     "name": "stdout",
     "output_type": "stream",
     "text": [
      "Student info: {'name': 'Alex', 'age': 23, 'major': 'Data Science', 'gpa': 3.8}\n",
      "Name: Alex\n",
      "Major: Data Science\n",
      "Updated student info: {'name': 'Alex', 'age': 23, 'major': 'Data Science', 'gpa': 3.9, 'year': 'Senior'}\n",
      "Removed age: 23, Student info now: {'name': 'Alex', 'major': 'Data Science', 'gpa': 3.9, 'year': 'Senior'}\n"
     ]
    }
   ],
   "source": [
    "### Basic dictionary operations\n",
    "student = {\n",
    "    \"name\": \"Alex\",\n",
    "    \"age\": 23,\n",
    "    \"major\": \"Data Science\",\n",
    "    \"gpa\": 3.8\n",
    "}\n",
    "\n",
    "print(\"Student info:\", student)\n",
    "\n",
    "# Accessing values\n",
    "print(\"Name:\", student[\"name\"])\n",
    "print(\"Major:\", student.get(\"major\"))\n",
    "\n",
    "# Adding or modifying key-value pairs\n",
    "student[\"year\"] = \"Senior\"\n",
    "student[\"gpa\"] = 3.9\n",
    "print(\"Updated student info:\", student)\n",
    "\n",
    "# Removing key-value pairs\n",
    "removed_age = student.pop(\"age\")\n",
    "print(f\"Removed age: {removed_age}, Student info now:\", student)"
   ]
  },
  {
   "cell_type": "markdown",
   "id": "fa6fee03-e4b4-420c-a717-01d22aa8fbfd",
   "metadata": {},
   "source": [
    "#### Exercise 7: Word Counter\n",
    "#### Write a function that takes a string and returns a dictionary with each word as a key\n",
    "#### and the number of occurrences as the value"
   ]
  },
  {
   "cell_type": "code",
   "execution_count": 109,
   "id": "4a8d77d6-8823-4f48-af51-1d77e85f3f77",
   "metadata": {},
   "outputs": [
    {
     "name": "stdout",
     "output_type": "stream",
     "text": [
      "Word counts: {'the': 4, 'quick': 2, 'brown': 1, 'fox': 2, 'jumps': 1, 'over': 1, 'lazy': 1, 'dog.': 1, 'was': 2, 'and': 1, 'dog': 1, 'lazy.': 1}\n"
     ]
    }
   ],
   "source": [
    "def count_words(text):\n",
    "    \n",
    "    words = text.lower().split()\n",
    "    word_count = {}\n",
    "\n",
    "    for word in words:\n",
    "        if word in word_count:\n",
    "            word_count[word] += 1\n",
    "        else:\n",
    "            word_count[word] = 1    \n",
    "    return word_count\n",
    "\n",
    "# Test your function\n",
    "sample_text = \"The quick brown fox jumps over the lazy dog. The fox was quick and the dog was lazy.\"\n",
    "word_counts = count_words(sample_text)\n",
    "print(\"Word counts:\", word_counts)"
   ]
  },
  {
   "cell_type": "markdown",
   "id": "78842902-4a74-44d5-b305-d35316d56716",
   "metadata": {},
   "source": [
    "#### Exercise 8: Contact Manager\n",
    "#### Create a small contact manager that lets you add, update, and retrieve contact information"
   ]
  },
  {
   "cell_type": "code",
   "execution_count": 113,
   "id": "bdb0399d-72c3-4354-a4d1-8c0071f1e06a",
   "metadata": {},
   "outputs": [
    {
     "name": "stdout",
     "output_type": "stream",
     "text": [
      "Added contact: Alice\n",
      "Added contact: Bob\n",
      "{'phone': '555-1234', 'email': 'alice@example.com'}\n",
      "Updated contact: Alice\n",
      "{'phone': '555-1234', 'email': 'alice.new@example.com'}\n",
      "Contact Charlie not found\n"
     ]
    }
   ],
   "source": [
    "contact_book = {}\n",
    "\n",
    "def add_contact(name, phone, email=None):\n",
    "    contact_book[name] = {\"phone\": phone, \"email\": email}\n",
    "    return f\"Added contact: {name}\"\n",
    "\n",
    "def update_contact(name, phone=None, email=None):\n",
    "    if name not in contact_book:\n",
    "        return f\"Contact {name} not found\"\n",
    "    \n",
    "    if phone:\n",
    "        contact_book[name][\"phone\"] = phone\n",
    "    if email:\n",
    "        contact_book[name][\"email\"] = email\n",
    "    \n",
    "    return f\"Updated contact: {name}\"\n",
    "\n",
    "def get_contact(name):\n",
    "    return contact_book.get(name, f\"Contact {name} not found\")\n",
    "\n",
    "# Test your contact manager\n",
    "print(add_contact(\"Alice\", \"555-1234\", \"alice@example.com\"))\n",
    "print(add_contact(\"Bob\", \"555-5678\"))\n",
    "print(get_contact(\"Alice\"))\n",
    "print(update_contact(\"Alice\", email=\"alice.new@example.com\"))\n",
    "print(get_contact(\"Alice\"))\n",
    "print(get_contact(\"Charlie\"))"
   ]
  },
  {
   "cell_type": "markdown",
   "id": "00b6f048-b06b-4c35-98ed-3820a30ccc18",
   "metadata": {},
   "source": [
    "#### Part 5: Loops"
   ]
  },
  {
   "cell_type": "code",
   "execution_count": 116,
   "id": "4d870b06-4772-4fd5-96b6-fef384c8b4d8",
   "metadata": {},
   "outputs": [
    {
     "name": "stdout",
     "output_type": "stream",
     "text": [
      "Iterating through a list:\n",
      "Color: red\n",
      "Color: green\n",
      "Color: blue\n",
      "Color: yellow\n",
      "\n",
      "Using range():\n",
      "Number: 0\n",
      "Number: 1\n",
      "Number: 2\n",
      "Number: 3\n",
      "Number: 4\n",
      "\n",
      "Using a while loop:\n",
      "Count: 0\n",
      "Count: 1\n",
      "Count: 2\n",
      "Count: 3\n",
      "Count: 4\n"
     ]
    }
   ],
   "source": [
    "### For loop with a list\n",
    "print(\"Iterating through a list:\")\n",
    "colors = [\"red\", \"green\", \"blue\", \"yellow\"]\n",
    "for color in colors:\n",
    "    print(f\"Color: {color}\")\n",
    "\n",
    "### For loop with range\n",
    "print(\"\\nUsing range():\")\n",
    "for i in range(5):\n",
    "    print(f\"Number: {i}\")\n",
    "\n",
    "### While loop\n",
    "print(\"\\nUsing a while loop:\")\n",
    "count = 0\n",
    "while count < 5:\n",
    "    print(f\"Count: {count}\")\n",
    "    count += 1"
   ]
  },
  {
   "cell_type": "markdown",
   "id": "7f50538f-f30a-467d-840b-120cefc5e863",
   "metadata": {},
   "source": [
    "#### Exercise 9: Factorial Calculator\n",
    "#### Write a function that calculates the factorial of a number using a loop\n",
    "#### Factorial of n = n * (n-1) * (n-2) * ... * 1"
   ]
  },
  {
   "cell_type": "code",
   "execution_count": 126,
   "id": "680821c0-c9ec-4618-abc3-64ca41d54695",
   "metadata": {},
   "outputs": [
    {
     "name": "stdout",
     "output_type": "stream",
     "text": [
      "Factorial of 0 = 1\n",
      "Factorial of 1 = 1\n",
      "Factorial of 2 = 2\n",
      "Factorial of 3 = 6\n",
      "Factorial of 4 = 24\n",
      "Factorial of 5 = 120\n"
     ]
    }
   ],
   "source": [
    "def factorial(n):\n",
    "\n",
    "    if n < 0:\n",
    "        return \"Error:\"\n",
    "    \n",
    "    result = 1\n",
    "    for i in range(1, n + 1):\n",
    "        result *= i\n",
    "    \n",
    "    return result\n",
    "\n",
    "# Test your function\n",
    "for num in range(6):\n",
    "    print(f\"Factorial of {num} = {factorial(num)}\")"
   ]
  },
  {
   "cell_type": "markdown",
   "id": "8d08c90f-e542-4d5b-80e4-a934576e2422",
   "metadata": {},
   "source": [
    "#### Exercise 10: Data Analysis\n",
    "#### You're given a list of dictionaries, each representing a student's score on different tests.\n",
    "#### Calculate the average score for each student and identify the student with the highest average."
   ]
  },
  {
   "cell_type": "code",
   "execution_count": 130,
   "id": "e80d152b-e048-4bb3-abf8-459331511496",
   "metadata": {},
   "outputs": [
    {
     "name": "stdout",
     "output_type": "stream",
     "text": [
      "\n",
      "Student Analysis:\n",
      "Individual Averages:\n",
      "  Alice: 90.00\n",
      "  Bob: 86.50\n",
      "  Charlie: 94.00\n",
      "  David: 85.75\n",
      "Top Student: Charlie with average of 94.00\n"
     ]
    }
   ],
   "source": [
    "students_data = [\n",
    "    {\"name\": \"Alice\", \"scores\": [88, 92, 95, 85]},\n",
    "    {\"name\": \"Bob\", \"scores\": [90, 87, 88, 81]},\n",
    "    {\"name\": \"Charlie\", \"scores\": [92, 95, 96, 93]},\n",
    "    {\"name\": \"David\", \"scores\": [78, 85, 91, 89]}\n",
    "]\n",
    "\n",
    "def analyze_student_scores(students):\n",
    "    results = {}\n",
    "    highest_avg = 0\n",
    "    top_student = None\n",
    "    \n",
    "    for student in students:\n",
    "        name = student[\"name\"]\n",
    "        scores = student[\"scores\"]\n",
    "        avg_score = sum(scores) / len(scores)\n",
    "        results[name] = avg_score\n",
    "        \n",
    "        if avg_score > highest_avg:\n",
    "            highest_avg = avg_score\n",
    "            top_student = name\n",
    "    \n",
    "    return {\n",
    "        \"individual_averages\": results,\n",
    "        \"top_student\": top_student,\n",
    "        \"top_average\": highest_avg\n",
    "    }\n",
    "\n",
    "# Test your function\n",
    "analysis = analyze_student_scores(students_data)\n",
    "print(\"\\nStudent Analysis:\")\n",
    "print(\"Individual Averages:\")\n",
    "for name, avg in analysis[\"individual_averages\"].items():\n",
    "    print(f\"  {name}: {avg:.2f}\")\n",
    "print(f\"Top Student: {analysis['top_student']} with average of {analysis['top_average']:.2f}\")"
   ]
  },
  {
   "cell_type": "markdown",
   "id": "511824d9-d941-48a9-88d9-d149e68c8354",
   "metadata": {},
   "source": [
    "#### Final Challenge: Sales Data Analysis\n",
    "\n",
    "#### You're given a list of dictionaries representing monthly sales data for a store.\n",
    "#### Each dictionary contains the month, category, and sales amount."
   ]
  },
  {
   "cell_type": "code",
   "execution_count": 131,
   "id": "f390f72a-88e9-49e7-9194-2e1eafa8b822",
   "metadata": {},
   "outputs": [
    {
     "name": "stdout",
     "output_type": "stream",
     "text": [
      "\n",
      "Sales Analysis:\n",
      "Monthly Sales:\n",
      "  Jan: $3030\n",
      "  Feb: $3420\n",
      "  Mar: $3580\n",
      "\n",
      "Category Sales:\n",
      "  Electronics: $4250\n",
      "  Books: $2550\n",
      "  Clothing: $3230\n",
      "\n",
      "Best Month: Mar with $3580\n",
      "Best Category: Electronics with $4250\n",
      "Total Sales: $10030\n"
     ]
    }
   ],
   "source": [
    "sales_data = [\n",
    "    {\"month\": \"Jan\", \"category\": \"Electronics\", \"amount\": 1200},\n",
    "    {\"month\": \"Jan\", \"category\": \"Books\", \"amount\": 850},\n",
    "    {\"month\": \"Jan\", \"category\": \"Clothing\", \"amount\": 980},\n",
    "    {\"month\": \"Feb\", \"category\": \"Electronics\", \"amount\": 1450},\n",
    "    {\"month\": \"Feb\", \"category\": \"Books\", \"amount\": 920},\n",
    "    {\"month\": \"Feb\", \"category\": \"Clothing\", \"amount\": 1050},\n",
    "    {\"month\": \"Mar\", \"category\": \"Electronics\", \"amount\": 1600},\n",
    "    {\"month\": \"Mar\", \"category\": \"Books\", \"amount\": 780},\n",
    "    {\"month\": \"Mar\", \"category\": \"Clothing\", \"amount\": 1200}\n",
    "]\n",
    "\n",
    "def analyze_sales(sales):\n",
    "\n",
    "# Step 1 Calculate total sales per month\n",
    "    monthly_sales = {}\n",
    "    for item in sales:\n",
    "        month = item[\"month\"]\n",
    "        amount = item[\"amount\"]\n",
    "        if month in monthly_sales:\n",
    "            monthly_sales[month] += amount\n",
    "        else:\n",
    "            monthly_sales[month] = amount\n",
    "    \n",
    "# Step 2 Calculate total sales per category\n",
    "    category_sales = {}\n",
    "    for item in sales:\n",
    "        category = item[\"category\"]\n",
    "        amount = item[\"amount\"]\n",
    "        if category in category_sales:\n",
    "            category_sales[category] += amount\n",
    "        else:\n",
    "            category_sales[category] = amount\n",
    "    \n",
    "\n",
    "# Step 3 Find the best performing month and category\n",
    "    best_month = max(monthly_sales, key=monthly_sales.get)\n",
    "    best_category = max(category_sales, key=category_sales.get)\n",
    "\n",
    "# Step 4 Calculate overall total sales\n",
    "    total_sales = sum(item[\"amount\"] for item in sales)\n",
    "\n",
    "    return {\n",
    "        \"monthly_sales\": monthly_sales,\n",
    "        \"category_sales\": category_sales,\n",
    "        \"best_month\": best_month,\n",
    "        \"best_category\": best_category,\n",
    "        \"total_sales\": total_sales\n",
    "    }\n",
    "\n",
    "# Test your analysis function\n",
    "sales_analysis = analyze_sales(sales_data)\n",
    "print(\"\\nSales Analysis:\")\n",
    "print(\"Monthly Sales:\")\n",
    "for month, amount in sales_analysis[\"monthly_sales\"].items():\n",
    "    print(f\"  {month}: ${amount}\")\n",
    "print(\"\\nCategory Sales:\")\n",
    "for category, amount in sales_analysis[\"category_sales\"].items():\n",
    "    print(f\"  {category}: ${amount}\")\n",
    "print(f\"\\nBest Month: {sales_analysis['best_month']} with ${sales_analysis['monthly_sales'][sales_analysis['best_month']]}\")\n",
    "print(f\"Best Category: {sales_analysis['best_category']} with ${sales_analysis['category_sales'][sales_analysis['best_category']]}\")\n",
    "print(f\"Total Sales: ${sales_analysis['total_sales']}\")"
   ]
  },
  {
   "cell_type": "code",
   "execution_count": null,
   "id": "ad654599-71dd-4fef-b439-2fae313f0101",
   "metadata": {},
   "outputs": [],
   "source": []
  }
 ],
 "metadata": {
  "kernelspec": {
   "display_name": "Python [conda env:base] *",
   "language": "python",
   "name": "conda-base-py"
  },
  "language_info": {
   "codemirror_mode": {
    "name": "ipython",
    "version": 3
   },
   "file_extension": ".py",
   "mimetype": "text/x-python",
   "name": "python",
   "nbconvert_exporter": "python",
   "pygments_lexer": "ipython3",
   "version": "3.13.5"
  }
 },
 "nbformat": 4,
 "nbformat_minor": 5
}
